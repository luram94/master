{
  "nbformat": 4,
  "nbformat_minor": 0,
  "metadata": {
    "colab": {
      "provenance": [],
      "authorship_tag": "ABX9TyMkDD/dEr47GubsJ6UDHJl9",
      "include_colab_link": true
    },
    "kernelspec": {
      "name": "python3",
      "display_name": "Python 3"
    },
    "language_info": {
      "name": "python"
    }
  },
  "cells": [
    {
      "cell_type": "markdown",
      "metadata": {
        "id": "view-in-github",
        "colab_type": "text"
      },
      "source": [
        "<a href=\"https://colab.research.google.com/github/luram94/master/blob/master/Web_scrapping_JM.ipynb\" target=\"_parent\"><img src=\"https://colab.research.google.com/assets/colab-badge.svg\" alt=\"Open In Colab\"/></a>"
      ]
    },
    {
      "cell_type": "code",
      "execution_count": 1,
      "metadata": {
        "colab": {
          "base_uri": "https://localhost:8080/"
        },
        "id": "vJwwk__Uasv_",
        "outputId": "61ce59d5-13c2-43fd-c103-6d7ed3e0b732"
      },
      "outputs": [
        {
          "output_type": "stream",
          "name": "stdout",
          "text": [
            "Looking in indexes: https://pypi.org/simple, https://us-python.pkg.dev/colab-wheels/public/simple/\n",
            "Requirement already satisfied: beautifulsoup4 in /usr/local/lib/python3.8/dist-packages (4.6.3)\n",
            "Looking in indexes: https://pypi.org/simple, https://us-python.pkg.dev/colab-wheels/public/simple/\n",
            "Requirement already satisfied: requests in /usr/local/lib/python3.8/dist-packages (2.25.1)\n",
            "Requirement already satisfied: idna<3,>=2.5 in /usr/local/lib/python3.8/dist-packages (from requests) (2.10)\n",
            "Requirement already satisfied: certifi>=2017.4.17 in /usr/local/lib/python3.8/dist-packages (from requests) (2022.12.7)\n",
            "Requirement already satisfied: urllib3<1.27,>=1.21.1 in /usr/local/lib/python3.8/dist-packages (from requests) (1.24.3)\n",
            "Requirement already satisfied: chardet<5,>=3.0.2 in /usr/local/lib/python3.8/dist-packages (from requests) (4.0.0)\n",
            "Looking in indexes: https://pypi.org/simple, https://us-python.pkg.dev/colab-wheels/public/simple/\n",
            "\u001b[31mERROR: Could not find a version that satisfies the requirement csv (from versions: none)\u001b[0m\u001b[31m\n",
            "\u001b[0m\u001b[31mERROR: No matching distribution found for csv\u001b[0m\u001b[31m\n",
            "\u001b[0m"
          ]
        }
      ],
      "source": [
        "!pip install beautifulsoup4\n",
        "!pip install requests\n",
        "!pip install csv"
      ]
    },
    {
      "cell_type": "code",
      "source": [
        "from bs4 import BeautifulSoup\n",
        "import requests\n",
        "import csv\n",
        "from urllib.request import urlopen"
      ],
      "metadata": {
        "id": "tQYlGcQKdQz4"
      },
      "execution_count": 3,
      "outputs": []
    },
    {
      "cell_type": "code",
      "source": [
        "page=requests.get('https://parascrapear.com/') #elegimos la web donde scrapear"
      ],
      "metadata": {
        "id": "nxXJ-EfHdsrm"
      },
      "execution_count": 4,
      "outputs": []
    },
    {
      "cell_type": "code",
      "source": [
        "soup=BeautifulSoup(page.text,\"html\") # le decimos que coja todo el texto HTML de la web de arriba"
      ],
      "metadata": {
        "id": "hLdxBh8zd2TY"
      },
      "execution_count": 6,
      "outputs": []
    },
    {
      "cell_type": "code",
      "source": [
        "blockquote_items=soup.find_all(\"blockquote\") #extraemos todos los bloques de la web"
      ],
      "metadata": {
        "id": "YLO7bitYeHC1"
      },
      "execution_count": 8,
      "outputs": []
    },
    {
      "cell_type": "code",
      "source": [
        "for blockquote in blockquote_items:\n",
        "  autor=blockquote.find(class_=\"author\").text\n",
        "  categoria=blockquote.find(class_=\"cat\").text\n",
        "  sentencia=blockquote.find(\"q\").text\n",
        "  print([autor,categoria,sentencia])"
      ],
      "metadata": {
        "colab": {
          "base_uri": "https://localhost:8080/"
        },
        "id": "siKowzhEhZ_N",
        "outputId": "b6181685-0f08-41c7-882c-3b0f2867ed3a"
      },
      "execution_count": 10,
      "outputs": [
        {
          "output_type": "stream",
          "name": "stdout",
          "text": [
            "['Blaise Pascal', 'Sociedad', 'Prefiero equivocarme creyendo en un Dios que no existe, que equivocarme no creyendo en un Dios que existe. Porque si después no hay nada, evidentemente nunca lo sabré, cuando me hunda en la nada eterna; pero si hay algo, si hay Alguien, tendré que dar cuenta de mi actitud de rechazo.']\n",
            "['Jean Jacques Rousseau', 'Sociedad', 'El hombre ha nacido libre y por doquiera se encuentra sujeto con cadenas.']\n",
            "['Blaise Pascal', 'Naturaleza', 'Nuestra naturaleza está en movimiento. El reposo absoluto es la muerte.']\n",
            "['Mahatma Gandhi', 'Defectos', 'Quisiera sufrir todas las humillaciones, todas las torturas, el ostracismo absoluto y hasta la muerte, para impedir la violencia.']\n",
            "['Gilbert Keith Chesterton', 'Miscelánea', 'La única simplicidad que vale la pena de conservar es la del corazón, la simplicidad que acepta y goza.']\n",
            "['Goethe', 'Pensamiento y razón', 'Las ideas audaces son como piezas de ajedrez. Pueden ser vencidas, pero también pueden iniciar una partida victoriosa.']\n",
            "['Emerson', 'Miscelánea', 'No me dejes caer en el vulgar error de soñar que soy perseguido cada vez que alguien me contradice.']\n",
            "['Friedrich Nietzsche', 'Sociedad', 'Un político divide a las personas en dos grupos: en primer lugar, instrumentos; en segundo, enemigos.']\n",
            "['Platón', 'Sociedad', 'El más importante y principal negocio público es la buena educación de la juventud.']\n",
            "['Jorge Luis Borges', 'Arte', 'La literatura no es otra cosa que un sueño dirigido.']\n",
            "['Emerson', 'Pensamiento y razón', '¿Cuál es la tarea más difícil del mundo? Pensar.']\n",
            "['Aristóteles', 'Sociedad', 'Se piensa que lo justo es lo igual, y así es; pero no para todos, sino para los iguales. Se piensa por el contrario que lo justo es lo desigual, y así es, pero no para todos, sino para los desiguales.']\n",
            "['Baltasar Gracián', 'Miscelánea', 'Saber olvidar, más es dicha que arte.']\n",
            "['Goethe', 'Sentimientos', 'Bueno es tener la alegría en casa y no haber menester de buscarla fuera.']\n",
            "['Aristóteles', 'Sociedad', 'No hace falta un gobierno perfecto; se necesita uno que sea práctico.']\n",
            "['Benjamin Franklin', 'Sociedad', 'Los hombres son criaturas muy raras: la mitad censura lo que practica; la otra mitad practica lo que censura; el resto siempre dice y hace lo que debe.']\n",
            "['Voltaire', 'Sentimientos', 'Conviene siempre esforzarse más en ser interesante que exacto; porque el espectador lo perdona todo menos el sopor.']\n",
            "['George Bernard Shaw', 'Sentimientos', 'El peor pecado hacia nuestros semejantes no es odiarlos, sino tratarlos con indiferencia: esa es la esencia de la inhumanidad.']\n",
            "['José Ortega y Gasset', 'Naturaleza', 'La vida es una serie de colisiones con el futuro; no es una suma de lo que hemos sido, sino de lo que anhelamos ser.']\n",
            "['Victor Hugo', 'Sociedad', 'Dios es la evidencia invisible.']\n"
          ]
        }
      ]
    },
    {
      "cell_type": "code",
      "source": [
        "f=csv.writer(open(\"/content/sample_data/ejemplo2/frases2.csv\",\"w\"))\n",
        "#f.writerow([\"Atuor\",\"Categoria\",\"Frase\"])"
      ],
      "metadata": {
        "colab": {
          "base_uri": "https://localhost:8080/"
        },
        "id": "SnIhEfccjIz9",
        "outputId": "f6f4b64e-e876-4bdf-8e3e-19fd8642c843"
      },
      "execution_count": 20,
      "outputs": [
        {
          "output_type": "execute_result",
          "data": {
            "text/plain": [
              "23"
            ]
          },
          "metadata": {},
          "execution_count": 20
        }
      ]
    },
    {
      "cell_type": "code",
      "source": [
        "with open('frases4.csv', 'w', newline='',encoding='utf-8') as f:\n",
        "    writer = csv.writer(f, delimiter=',')\n",
        "    writer.writerow([\"Autor\", \"Categoria\", \"Frases\"])\n",
        "    for blockquote in blockquote_items:\n",
        "        autor = blockquote.find(class_='author').text\n",
        "        categoria = blockquote.find(class_='cat').text\n",
        "        sentencia = blockquote.find('q').text\n",
        "        writer.writerow([autor, categoria, sentencia])"
      ],
      "metadata": {
        "id": "e9G4bnbzo-35"
      },
      "execution_count": 35,
      "outputs": []
    },
    {
      "cell_type": "code",
      "source": [
        "import pandas as pd\n",
        "df = pd.read_csv('frases4.csv')\n",
        "#df.columns = [\"Webinar\", \"Fecha\",\"Frase\"]\n",
        "df.head()"
      ],
      "metadata": {
        "colab": {
          "base_uri": "https://localhost:8080/",
          "height": 206
        },
        "id": "C1l0Uid-mOQc",
        "outputId": "886d12ed-f177-401a-9a53-b9db21a5b36e"
      },
      "execution_count": 36,
      "outputs": [
        {
          "output_type": "execute_result",
          "data": {
            "text/plain": [
              "                      Autor   Categoria  \\\n",
              "0             Blaise Pascal    Sociedad   \n",
              "1     Jean Jacques Rousseau    Sociedad   \n",
              "2             Blaise Pascal  Naturaleza   \n",
              "3            Mahatma Gandhi    Defectos   \n",
              "4  Gilbert Keith Chesterton  Miscelánea   \n",
              "\n",
              "                                              Frases  \n",
              "0  Prefiero equivocarme creyendo en un Dios que n...  \n",
              "1  El hombre ha nacido libre y por doquiera se en...  \n",
              "2  Nuestra naturaleza está en movimiento. El repo...  \n",
              "3  Quisiera sufrir todas las humillaciones, todas...  \n",
              "4  La única simplicidad que vale la pena de conse...  "
            ],
            "text/html": [
              "\n",
              "  <div id=\"df-16beda7d-f54f-432a-b1c1-341946f48a05\">\n",
              "    <div class=\"colab-df-container\">\n",
              "      <div>\n",
              "<style scoped>\n",
              "    .dataframe tbody tr th:only-of-type {\n",
              "        vertical-align: middle;\n",
              "    }\n",
              "\n",
              "    .dataframe tbody tr th {\n",
              "        vertical-align: top;\n",
              "    }\n",
              "\n",
              "    .dataframe thead th {\n",
              "        text-align: right;\n",
              "    }\n",
              "</style>\n",
              "<table border=\"1\" class=\"dataframe\">\n",
              "  <thead>\n",
              "    <tr style=\"text-align: right;\">\n",
              "      <th></th>\n",
              "      <th>Autor</th>\n",
              "      <th>Categoria</th>\n",
              "      <th>Frases</th>\n",
              "    </tr>\n",
              "  </thead>\n",
              "  <tbody>\n",
              "    <tr>\n",
              "      <th>0</th>\n",
              "      <td>Blaise Pascal</td>\n",
              "      <td>Sociedad</td>\n",
              "      <td>Prefiero equivocarme creyendo en un Dios que n...</td>\n",
              "    </tr>\n",
              "    <tr>\n",
              "      <th>1</th>\n",
              "      <td>Jean Jacques Rousseau</td>\n",
              "      <td>Sociedad</td>\n",
              "      <td>El hombre ha nacido libre y por doquiera se en...</td>\n",
              "    </tr>\n",
              "    <tr>\n",
              "      <th>2</th>\n",
              "      <td>Blaise Pascal</td>\n",
              "      <td>Naturaleza</td>\n",
              "      <td>Nuestra naturaleza está en movimiento. El repo...</td>\n",
              "    </tr>\n",
              "    <tr>\n",
              "      <th>3</th>\n",
              "      <td>Mahatma Gandhi</td>\n",
              "      <td>Defectos</td>\n",
              "      <td>Quisiera sufrir todas las humillaciones, todas...</td>\n",
              "    </tr>\n",
              "    <tr>\n",
              "      <th>4</th>\n",
              "      <td>Gilbert Keith Chesterton</td>\n",
              "      <td>Miscelánea</td>\n",
              "      <td>La única simplicidad que vale la pena de conse...</td>\n",
              "    </tr>\n",
              "  </tbody>\n",
              "</table>\n",
              "</div>\n",
              "      <button class=\"colab-df-convert\" onclick=\"convertToInteractive('df-16beda7d-f54f-432a-b1c1-341946f48a05')\"\n",
              "              title=\"Convert this dataframe to an interactive table.\"\n",
              "              style=\"display:none;\">\n",
              "        \n",
              "  <svg xmlns=\"http://www.w3.org/2000/svg\" height=\"24px\"viewBox=\"0 0 24 24\"\n",
              "       width=\"24px\">\n",
              "    <path d=\"M0 0h24v24H0V0z\" fill=\"none\"/>\n",
              "    <path d=\"M18.56 5.44l.94 2.06.94-2.06 2.06-.94-2.06-.94-.94-2.06-.94 2.06-2.06.94zm-11 1L8.5 8.5l.94-2.06 2.06-.94-2.06-.94L8.5 2.5l-.94 2.06-2.06.94zm10 10l.94 2.06.94-2.06 2.06-.94-2.06-.94-.94-2.06-.94 2.06-2.06.94z\"/><path d=\"M17.41 7.96l-1.37-1.37c-.4-.4-.92-.59-1.43-.59-.52 0-1.04.2-1.43.59L10.3 9.45l-7.72 7.72c-.78.78-.78 2.05 0 2.83L4 21.41c.39.39.9.59 1.41.59.51 0 1.02-.2 1.41-.59l7.78-7.78 2.81-2.81c.8-.78.8-2.07 0-2.86zM5.41 20L4 18.59l7.72-7.72 1.47 1.35L5.41 20z\"/>\n",
              "  </svg>\n",
              "      </button>\n",
              "      \n",
              "  <style>\n",
              "    .colab-df-container {\n",
              "      display:flex;\n",
              "      flex-wrap:wrap;\n",
              "      gap: 12px;\n",
              "    }\n",
              "\n",
              "    .colab-df-convert {\n",
              "      background-color: #E8F0FE;\n",
              "      border: none;\n",
              "      border-radius: 50%;\n",
              "      cursor: pointer;\n",
              "      display: none;\n",
              "      fill: #1967D2;\n",
              "      height: 32px;\n",
              "      padding: 0 0 0 0;\n",
              "      width: 32px;\n",
              "    }\n",
              "\n",
              "    .colab-df-convert:hover {\n",
              "      background-color: #E2EBFA;\n",
              "      box-shadow: 0px 1px 2px rgba(60, 64, 67, 0.3), 0px 1px 3px 1px rgba(60, 64, 67, 0.15);\n",
              "      fill: #174EA6;\n",
              "    }\n",
              "\n",
              "    [theme=dark] .colab-df-convert {\n",
              "      background-color: #3B4455;\n",
              "      fill: #D2E3FC;\n",
              "    }\n",
              "\n",
              "    [theme=dark] .colab-df-convert:hover {\n",
              "      background-color: #434B5C;\n",
              "      box-shadow: 0px 1px 3px 1px rgba(0, 0, 0, 0.15);\n",
              "      filter: drop-shadow(0px 1px 2px rgba(0, 0, 0, 0.3));\n",
              "      fill: #FFFFFF;\n",
              "    }\n",
              "  </style>\n",
              "\n",
              "      <script>\n",
              "        const buttonEl =\n",
              "          document.querySelector('#df-16beda7d-f54f-432a-b1c1-341946f48a05 button.colab-df-convert');\n",
              "        buttonEl.style.display =\n",
              "          google.colab.kernel.accessAllowed ? 'block' : 'none';\n",
              "\n",
              "        async function convertToInteractive(key) {\n",
              "          const element = document.querySelector('#df-16beda7d-f54f-432a-b1c1-341946f48a05');\n",
              "          const dataTable =\n",
              "            await google.colab.kernel.invokeFunction('convertToInteractive',\n",
              "                                                     [key], {});\n",
              "          if (!dataTable) return;\n",
              "\n",
              "          const docLinkHtml = 'Like what you see? Visit the ' +\n",
              "            '<a target=\"_blank\" href=https://colab.research.google.com/notebooks/data_table.ipynb>data table notebook</a>'\n",
              "            + ' to learn more about interactive tables.';\n",
              "          element.innerHTML = '';\n",
              "          dataTable['output_type'] = 'display_data';\n",
              "          await google.colab.output.renderOutput(dataTable, element);\n",
              "          const docLink = document.createElement('div');\n",
              "          docLink.innerHTML = docLinkHtml;\n",
              "          element.appendChild(docLink);\n",
              "        }\n",
              "      </script>\n",
              "    </div>\n",
              "  </div>\n",
              "  "
            ]
          },
          "metadata": {},
          "execution_count": 36
        }
      ]
    },
    {
      "cell_type": "code",
      "source": [
        " import csv\n",
        "\n",
        " with open('students.csv', 'w', newline='') as file:\n",
        "     writer = csv.writer(file)\n",
        "     \n",
        "     writer.writerow([\"SNo\", \"Name\", \"Subject\"])\n",
        "     writer.writerow([1, \"Ash Ketchum\", \"English\"])\n",
        "     writer.writerow([2, \"Gary Oak\", \"Mathematics\"])\n",
        "     writer.writerow([3, \"Brock Lesner\", \"Physics\"])"
      ],
      "metadata": {
        "id": "yajUVQN9vDPx"
      },
      "execution_count": 33,
      "outputs": []
    },
    {
      "cell_type": "code",
      "source": [
        "import pandas as pd\n",
        "df = pd.read_csv('students.csv')\n",
        "#df.columns = [\"Webinar\", \"Fecha\",\"Frase\"]\n",
        "df.head()"
      ],
      "metadata": {
        "colab": {
          "base_uri": "https://localhost:8080/",
          "height": 143
        },
        "id": "5P8DgT8gv0RR",
        "outputId": "7d2a5b8c-64a2-4c66-d69b-f8342659dd42"
      },
      "execution_count": 34,
      "outputs": [
        {
          "output_type": "execute_result",
          "data": {
            "text/plain": [
              "   SNo          Name      Subject\n",
              "0    1   Ash Ketchum      English\n",
              "1    2      Gary Oak  Mathematics\n",
              "2    3  Brock Lesner      Physics"
            ],
            "text/html": [
              "\n",
              "  <div id=\"df-ce27ec9d-d94c-433f-b7b3-636fb89f7742\">\n",
              "    <div class=\"colab-df-container\">\n",
              "      <div>\n",
              "<style scoped>\n",
              "    .dataframe tbody tr th:only-of-type {\n",
              "        vertical-align: middle;\n",
              "    }\n",
              "\n",
              "    .dataframe tbody tr th {\n",
              "        vertical-align: top;\n",
              "    }\n",
              "\n",
              "    .dataframe thead th {\n",
              "        text-align: right;\n",
              "    }\n",
              "</style>\n",
              "<table border=\"1\" class=\"dataframe\">\n",
              "  <thead>\n",
              "    <tr style=\"text-align: right;\">\n",
              "      <th></th>\n",
              "      <th>SNo</th>\n",
              "      <th>Name</th>\n",
              "      <th>Subject</th>\n",
              "    </tr>\n",
              "  </thead>\n",
              "  <tbody>\n",
              "    <tr>\n",
              "      <th>0</th>\n",
              "      <td>1</td>\n",
              "      <td>Ash Ketchum</td>\n",
              "      <td>English</td>\n",
              "    </tr>\n",
              "    <tr>\n",
              "      <th>1</th>\n",
              "      <td>2</td>\n",
              "      <td>Gary Oak</td>\n",
              "      <td>Mathematics</td>\n",
              "    </tr>\n",
              "    <tr>\n",
              "      <th>2</th>\n",
              "      <td>3</td>\n",
              "      <td>Brock Lesner</td>\n",
              "      <td>Physics</td>\n",
              "    </tr>\n",
              "  </tbody>\n",
              "</table>\n",
              "</div>\n",
              "      <button class=\"colab-df-convert\" onclick=\"convertToInteractive('df-ce27ec9d-d94c-433f-b7b3-636fb89f7742')\"\n",
              "              title=\"Convert this dataframe to an interactive table.\"\n",
              "              style=\"display:none;\">\n",
              "        \n",
              "  <svg xmlns=\"http://www.w3.org/2000/svg\" height=\"24px\"viewBox=\"0 0 24 24\"\n",
              "       width=\"24px\">\n",
              "    <path d=\"M0 0h24v24H0V0z\" fill=\"none\"/>\n",
              "    <path d=\"M18.56 5.44l.94 2.06.94-2.06 2.06-.94-2.06-.94-.94-2.06-.94 2.06-2.06.94zm-11 1L8.5 8.5l.94-2.06 2.06-.94-2.06-.94L8.5 2.5l-.94 2.06-2.06.94zm10 10l.94 2.06.94-2.06 2.06-.94-2.06-.94-.94-2.06-.94 2.06-2.06.94z\"/><path d=\"M17.41 7.96l-1.37-1.37c-.4-.4-.92-.59-1.43-.59-.52 0-1.04.2-1.43.59L10.3 9.45l-7.72 7.72c-.78.78-.78 2.05 0 2.83L4 21.41c.39.39.9.59 1.41.59.51 0 1.02-.2 1.41-.59l7.78-7.78 2.81-2.81c.8-.78.8-2.07 0-2.86zM5.41 20L4 18.59l7.72-7.72 1.47 1.35L5.41 20z\"/>\n",
              "  </svg>\n",
              "      </button>\n",
              "      \n",
              "  <style>\n",
              "    .colab-df-container {\n",
              "      display:flex;\n",
              "      flex-wrap:wrap;\n",
              "      gap: 12px;\n",
              "    }\n",
              "\n",
              "    .colab-df-convert {\n",
              "      background-color: #E8F0FE;\n",
              "      border: none;\n",
              "      border-radius: 50%;\n",
              "      cursor: pointer;\n",
              "      display: none;\n",
              "      fill: #1967D2;\n",
              "      height: 32px;\n",
              "      padding: 0 0 0 0;\n",
              "      width: 32px;\n",
              "    }\n",
              "\n",
              "    .colab-df-convert:hover {\n",
              "      background-color: #E2EBFA;\n",
              "      box-shadow: 0px 1px 2px rgba(60, 64, 67, 0.3), 0px 1px 3px 1px rgba(60, 64, 67, 0.15);\n",
              "      fill: #174EA6;\n",
              "    }\n",
              "\n",
              "    [theme=dark] .colab-df-convert {\n",
              "      background-color: #3B4455;\n",
              "      fill: #D2E3FC;\n",
              "    }\n",
              "\n",
              "    [theme=dark] .colab-df-convert:hover {\n",
              "      background-color: #434B5C;\n",
              "      box-shadow: 0px 1px 3px 1px rgba(0, 0, 0, 0.15);\n",
              "      filter: drop-shadow(0px 1px 2px rgba(0, 0, 0, 0.3));\n",
              "      fill: #FFFFFF;\n",
              "    }\n",
              "  </style>\n",
              "\n",
              "      <script>\n",
              "        const buttonEl =\n",
              "          document.querySelector('#df-ce27ec9d-d94c-433f-b7b3-636fb89f7742 button.colab-df-convert');\n",
              "        buttonEl.style.display =\n",
              "          google.colab.kernel.accessAllowed ? 'block' : 'none';\n",
              "\n",
              "        async function convertToInteractive(key) {\n",
              "          const element = document.querySelector('#df-ce27ec9d-d94c-433f-b7b3-636fb89f7742');\n",
              "          const dataTable =\n",
              "            await google.colab.kernel.invokeFunction('convertToInteractive',\n",
              "                                                     [key], {});\n",
              "          if (!dataTable) return;\n",
              "\n",
              "          const docLinkHtml = 'Like what you see? Visit the ' +\n",
              "            '<a target=\"_blank\" href=https://colab.research.google.com/notebooks/data_table.ipynb>data table notebook</a>'\n",
              "            + ' to learn more about interactive tables.';\n",
              "          element.innerHTML = '';\n",
              "          dataTable['output_type'] = 'display_data';\n",
              "          await google.colab.output.renderOutput(dataTable, element);\n",
              "          const docLink = document.createElement('div');\n",
              "          docLink.innerHTML = docLinkHtml;\n",
              "          element.appendChild(docLink);\n",
              "        }\n",
              "      </script>\n",
              "    </div>\n",
              "  </div>\n",
              "  "
            ]
          },
          "metadata": {},
          "execution_count": 34
        }
      ]
    }
  ]
}